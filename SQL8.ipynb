{
 "cells": [
  {
   "cell_type": "raw",
   "id": "123e6b18",
   "metadata": {},
   "source": [
    "Q-15. Write an SQL query to fetch intersecting records of two tables.\n",
    "ANS- SELECT  ID, NAME, Amount, Date\n",
    "     FROM Customers\n",
    "     LEFT JOIN Orders\n",
    "     ON Customers.ID = Orders.Customer_id\n",
    "INTERSECT\n",
    "     SELECT  ID, NAME, Amount, Date\n",
    "     FROM Customers\n",
    "     RIGHT JOIN Orders\n",
    "     ON Customers.ID = Orders.Customer_id;"
   ]
  },
  {
   "cell_type": "raw",
   "id": "c8fef909",
   "metadata": {},
   "source": [
    "Q-16. Write an SQL query to show records from one table that another table does not\n",
    "have.\n",
    "ANS- SELECT t1.name\n",
    "     FROM table1 t1\n",
    "     LEFT JOIN table2 t2 ON t2.name = t1.name\n",
    "     WHERE t2.name IS NULL"
   ]
  }
 ],
 "metadata": {
  "kernelspec": {
   "display_name": "Python 3 (ipykernel)",
   "language": "python",
   "name": "python3"
  },
  "language_info": {
   "codemirror_mode": {
    "name": "ipython",
    "version": 3
   },
   "file_extension": ".py",
   "mimetype": "text/x-python",
   "name": "python",
   "nbconvert_exporter": "python",
   "pygments_lexer": "ipython3",
   "version": "3.9.7"
  }
 },
 "nbformat": 4,
 "nbformat_minor": 5
}
